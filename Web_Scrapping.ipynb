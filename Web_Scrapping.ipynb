{
 "cells": [
  {
   "cell_type": "code",
   "execution_count": 2,
   "metadata": {
    "scrolled": true
   },
   "outputs": [
    {
     "name": "stdout",
     "output_type": "stream",
     "text": [
      "Note: you may need to restart the kernel to use updated packages.\n"
     ]
    },
    {
     "name": "stderr",
     "output_type": "stream",
     "text": [
      "'C:\\Users\\Lokesh' is not recognized as an internal or external command,\n",
      "operable program or batch file.\n"
     ]
    }
   ],
   "source": [
    "pip install request"
   ]
  },
  {
   "cell_type": "code",
   "execution_count": 3,
   "metadata": {},
   "outputs": [],
   "source": [
    "import requests\n",
    "from bs4 import BeautifulSoup\n",
    "\n",
    "#Initalising empty lists\n",
    "rank, model, price, rating, votes, specs, img = [],[],[],[],[],[],[]\n",
    "\n",
    "#Amazon web link for Bestsellers in Smartphones in INDIA (contains 2 pages)\n",
    "link = \"https://www.amazon.in/gp/bestsellers/electronics/1805560031/ref=zg_bs_pg_1?ie=UTF8&pg=\"\n",
    "\n",
    "for i in range(2):\n",
    "    page_no = link+str(i+1)\n",
    "    page = requests.get(page_no)\n",
    "    soup = BeautifulSoup(page.content, 'lxml')\n",
    "\n",
    "    for item in soup.find_all('div', class_='a-section a-spacing-none aok-relative'):\n",
    "        rank1 = getattr(item.find('span',class_=\"zg-badge-text\"),'text',None)\n",
    "        rank1 = rank1.split('#')[1]\n",
    "        \n",
    "        img1 = str(item.find('div',class_=\"a-section a-spacing-small\")).split('src=\\\"')[1].split('\\\" width')[0]\n",
    "        \n",
    "        pro = str(item.find('img')).split('=')[1].split(\"height\")[0].replace('\"','').replace('Mi 11X 5G','Mi 11X 5G (').replace('GB RAM 128GB ROM | SD 870 | DisplayMate A+ rated E4 AMOLED','GB RAM 128GB ROM)').replace('Redmi Note 9 Shadow Black, 4GB RAM, 64GB Storage','Redmi Note 9 (Shadow Black, 4GB RAM, 64GB Storage)').replace('Vivo V20 2021 Sunset Melody, 8GB RAM, 128GB Storage','Vivo V20 2021 (Sunset Melody, 8GB RAM, 128GB Storage)')\n",
    "        \n",
    "        model1 = pro.split('(')[0]\n",
    "        \n",
    "        specs1 = pro.split('(')[1].split(')')[0]\n",
    "                \n",
    "        rating1 = getattr(item.find('span',class_=\"a-icon-alt\"),'text',None)\n",
    "        if rating1 is not (None):\n",
    "            rating1 = rating1.split(' out')[0]\n",
    "        \n",
    "        votes1 = getattr(item.find('a',class_=\"a-size-small a-link-normal\"),'text',None)\n",
    "            \n",
    "        price1 = getattr(item.find('span',class_=\"p13n-sc-price\"),'text',None)\n",
    "        if price1 is not (None):\n",
    "            price1 = price1.replace('₹\\xa0','')\n",
    "        \n",
    "        rank.append(rank1)\n",
    "        model.append(model1)\n",
    "        specs.append(specs1)\n",
    "        price.append(price1)\n",
    "        rating.append(rating1)\n",
    "        votes.append(votes1)\n",
    "        img.append(img1)"
   ]
  },
  {
   "cell_type": "code",
   "execution_count": 1,
   "metadata": {},
   "outputs": [],
   "source": [
    "import pyodbc \n",
    "import pandas as pd\n",
    "conn = pyodbc.connect('Driver={SQL Server};'\n",
    "                      'Server=LAPTOP-9B4F4L4E;'\n",
    "                      'Database=DataMining_A1;'\n",
    "                      'Trusted_Connection=yes;', autocommit = True)\n",
    "\n",
    "cursor = conn.cursor()"
   ]
  },
  {
   "cell_type": "code",
   "execution_count": 4,
   "metadata": {},
   "outputs": [
    {
     "data": {
      "text/plain": [
       "<pyodbc.Cursor at 0x230b52fc530>"
      ]
     },
     "execution_count": 4,
     "metadata": {},
     "output_type": "execute_result"
    }
   ],
   "source": [
    "cursor.execute('''\n",
    " CREATE TABLE MobileInfo (\n",
    "        Rank INTEGER PRIMARY KEY,\n",
    "        Model TEXT NOT NULL,\n",
    "        Specs TEXT NULL,\n",
    "        Price TEXT NULL,\n",
    "        Rating TEXT NULL,\n",
    "        Votes TEXT NULL,\n",
    "        Image TEXT NULL);\n",
    "               ''')"
   ]
  },
  {
   "cell_type": "code",
   "execution_count": 5,
   "metadata": {},
   "outputs": [],
   "source": [
    "for i in range(100):\n",
    "    statement = \"insert into [DataMining_A1].[dbo].[MobileInfo] (Rank, Model, Specs, Price, Rating, Votes, Image) values ({},\\'{}\\',\\'{}\\',\\'{}\\',\\'{}\\',\\'{}\\',\\'{}\\');\".format(rank[i],model[i],specs[i],price[i],rating[i],votes[i],img[i])\n",
    "    cursor.execute(statement)"
   ]
  },
  {
   "cell_type": "code",
   "execution_count": 20,
   "metadata": {},
   "outputs": [
    {
     "data": {
      "text/plain": [
       "'https://images-eu.ssl-images-amazon.com/images/I/716nHhG9SWL._AC_UL200_SR200,200_.jpg'"
      ]
     },
     "execution_count": 20,
     "metadata": {},
     "output_type": "execute_result"
    }
   ],
   "source": [
    "select_query = \"select * from [DataMining_A1].[dbo].[MobileInfo];\"\n",
    "#cursor.execute(select_query)\n",
    "out = pd.read_sql_query(select_query,conn)\n",
    "out['Image'][27]"
   ]
  },
  {
   "cell_type": "code",
   "execution_count": 2,
   "metadata": {},
   "outputs": [
    {
     "data": {
      "text/plain": [
       "<pyodbc.Cursor at 0x230b52fc530>"
      ]
     },
     "execution_count": 2,
     "metadata": {},
     "output_type": "execute_result"
    }
   ],
   "source": [
    "cursor.execute('''DROP TABLE MobileInfo;''')"
   ]
  },
  {
   "cell_type": "code",
   "execution_count": 10,
   "metadata": {},
   "outputs": [
    {
     "data": {
      "text/plain": [
       "'\"https://images-eu.ssl-images-amazon.com/images/I/71QLvGIAq5L._AC_UL200_SR200,200_.jpg\"'"
      ]
     },
     "execution_count": 10,
     "metadata": {},
     "output_type": "execute_result"
    }
   ],
   "source": [
    "str(soup.find_all('div',class_=\"a-section a-spacing-small\")).split('src=')[1].split(' width')[0]"
   ]
  },
  {
   "cell_type": "code",
   "execution_count": 26,
   "metadata": {},
   "outputs": [
    {
     "data": {
      "text/plain": [
       "'Redmi Note 10 Pro '"
      ]
     },
     "execution_count": 26,
     "metadata": {},
     "output_type": "execute_result"
    }
   ],
   "source": [
    "select_id = \"select * from [DataMining_A1].[dbo].[MobileInfo] where Rank = '5';\"\n",
    "e_out = pd.read_sql_query(select_id,conn)\n",
    "e_out.iloc[0]['Model']"
   ]
  },
  {
   "cell_type": "code",
   "execution_count": 69,
   "metadata": {},
   "outputs": [],
   "source": [
    "id=5\n",
    "select_id = \"select * from [DataMining_A1].[dbo].[MobileInfo] where Rank = '{0}';\".format(id)\n",
    "e_out = pd.read_sql_query(select_id,conn)"
   ]
  },
  {
   "cell_type": "code",
   "execution_count": 48,
   "metadata": {},
   "outputs": [
    {
     "data": {
      "text/plain": [
       "<pyodbc.Cursor at 0x23633ae15b0>"
      ]
     },
     "execution_count": 48,
     "metadata": {},
     "output_type": "execute_result"
    }
   ],
   "source": [
    "cursor.execute('''select Image from [DataMining_A1].[dbo].[MobileInfo];''')"
   ]
  },
  {
   "cell_type": "code",
   "execution_count": null,
   "metadata": {},
   "outputs": [],
   "source": []
  }
 ],
 "metadata": {
  "kernelspec": {
   "display_name": "Python 3",
   "language": "python",
   "name": "python3"
  },
  "language_info": {
   "codemirror_mode": {
    "name": "ipython",
    "version": 3
   },
   "file_extension": ".py",
   "mimetype": "text/x-python",
   "name": "python",
   "nbconvert_exporter": "python",
   "pygments_lexer": "ipython3",
   "version": "3.8.5"
  }
 },
 "nbformat": 4,
 "nbformat_minor": 4
}
